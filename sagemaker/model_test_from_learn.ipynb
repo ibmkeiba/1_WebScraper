{
 "cells": [
  {
   "cell_type": "code",
   "execution_count": 42,
   "metadata": {},
   "outputs": [],
   "source": [
    "# ライブラリのインポート\n",
    "import boto3\n",
    "import pandas as pd\n",
    "import time\n",
    "import sys"
   ]
  },
  {
   "cell_type": "code",
   "execution_count": 43,
   "metadata": {},
   "outputs": [],
   "source": [
    "# S3バケットから機械学習推論用データをダウンロードして読み込み： None > DataFrame (ls_df)\n",
    "\n",
    "def MyGetLearnFromS3(filepath='RaceLearnTable_latest.csv'):\n",
    "\n",
    "    # S3バケット名の指定\n",
    "    bucket = 'teama-s3-sagemaker'\n",
    "\n",
    "    # ダウンロード\n",
    "    s3 = boto3.resource('s3')\n",
    "    s3.Bucket(bucket).Object(filepath).download_file('RaceLearnTable.csv')\n",
    "    \n",
    "    print(f'\\n■ SageMakerの「{filepath}」からS3に「RaceLearnTable.csv」としてダウンロードしました\\n')\n",
    "\n",
    "    # DataFrameとして読み込み\n",
    "    ls_df = pd.read_csv('RaceLearnTable.csv')\n",
    "\n",
    "    return ls_df"
   ]
  },
  {
   "cell_type": "code",
   "execution_count": 44,
   "metadata": {},
   "outputs": [],
   "source": [
    "# 推論を実行：　DataFrame (ls_df) > DataFrame (resultall_df)\n",
    "\n",
    "def MyPredict(ls_df, ep_name):\n",
    "    \n",
    "    # エンドポイントのセッション開始 (Heavy)\n",
    "    sm_rt = boto3.Session().client('runtime.sagemaker')\n",
    "\n",
    "    # 予想タイムのリスト実行数カウンターの初期設定\n",
    "    sec_list = []\n",
    "    count = 0\n",
    "\n",
    "    # 推論の開始時間\n",
    "    time1 = time.time()\n",
    "\n",
    "    for index, row in ls_df.iterrows():\n",
    "\n",
    "        # 推論用の文字列を作成\n",
    "        l = row['test']\n",
    "\n",
    "        # エンドポイントにデプロイ\n",
    "        responses = sm_rt.invoke_endpoint(EndpointName=ep_name, ContentType='text/csv', Accept='text/csv', Body=l)\n",
    "\n",
    "        # 返答結果の予測値\n",
    "        res = responses['Body'].read().decode(\"utf-8\")\n",
    "\n",
    "        # 着順予想タイムのリストに追加\n",
    "        sec_list.append(float(res))\n",
    "\n",
    "        # 進行状況を表示（100単位）\n",
    "        count += 1\n",
    "        if (count % 100 == 0):   \n",
    "            sys.stdout.write(str(count)+' ')\n",
    "\n",
    "    # 推論の終了時間 / 所要時間を表示\n",
    "    time2 = time.time()\n",
    "    print(f'\\n\\n■ 推論所要時間[sec]： {time2 - time1}, 件数：　{count}')\n",
    "\n",
    "    # レースID, 予想着順, 予想順位 のDataFrameを作成\n",
    "    pre_df = pd.DataFrame([ls_df['race_id'].astype(int).tolist(), sec_list], index=['race_id','racetime_pre']).T\n",
    "    pre_df['ranking_pre'] = pre_df.groupby(['race_id']).rank(method='min').astype(int)\n",
    "\n",
    "    # レース結果に予想着順と予想タイムを合わせたDataFrameを作成\n",
    "    resultall_df = pd.concat([ls_df.reset_index().drop('index', axis=1), pre_df.reset_index().drop(['index', 'race_id'], axis=1)], axis=1)\n",
    "\n",
    "    return resultall_df"
   ]
  },
  {
   "cell_type": "code",
   "execution_count": 45,
   "metadata": {},
   "outputs": [],
   "source": [
    "# レース結果のレコードを特定できる情報と推論結果のDataFrameを作成してCSV出力\n",
    "def learn2csv(resultall_df, filepath='RacePredictedTable.csv'):\n",
    "    \n",
    "    # 推論結果とレコードを特定できる項目のDataFrame\n",
    "    selected = ['race_id', 'umaban', 'bamei', 'ranking_pre', 'racetime_pre']\n",
    "    learn_df = resultall_df[selected]\n",
    "\n",
    "    # CSV出力\n",
    "    learn_df.to_csv(filepath, index=None, header=True, encoding=' utf_8_sig')\n",
    "    \n",
    "    print(f'\\n■ レースの推論結果をCSV（{filepath}）に出力しました\\n')"
   ]
  },
  {
   "cell_type": "code",
   "execution_count": 46,
   "metadata": {},
   "outputs": [],
   "source": [
    "# 機械学習推論用データをS3にアップロード\n",
    "def uploads3(filepath='RacePredictedTable.csv'):\n",
    "\n",
    "    # S3バケット名の指定\n",
    "    bucket = 'teama-s3-sagemaker'\n",
    "\n",
    "    s3 = boto3.resource('s3')\n",
    "    s3.Bucket(bucket).Object(filepath).upload_file(filepath)\n",
    "\n",
    "    print(f'■ SageMakerの「{filepath}」からS3に「{filepath}」としてアップロードしました\\n')"
   ]
  },
  {
   "cell_type": "code",
   "execution_count": 47,
   "metadata": {},
   "outputs": [],
   "source": [
    "def main():\n",
    "    \n",
    "    # S3バケットから機械学習推論用データをダウンロードして読み込み： None > DataFrame (ls_df)\n",
    "    ls_df = MyGetLearnFromS3()\n",
    "\n",
    "    # 推論を実行：　DataFrame (ls_df, エンドポイント名) > DataFrame (resultall_df)　\n",
    "    resultall_df = MyPredict(ls_df, 'Keiba-Heavy-2008-2021-1129')\n",
    "\n",
    "    # レース結果のレコードを特定できる情報と推論結果のDataFrameを作成してCSV出力\n",
    "    learn2csv(resultall_df)\n",
    "\n",
    "    # 機械学習推論用データをS3にアップロード\n",
    "    uploads3()"
   ]
  },
  {
   "cell_type": "code",
   "execution_count": 48,
   "metadata": {},
   "outputs": [
    {
     "name": "stdout",
     "output_type": "stream",
     "text": [
      "\n",
      "■ SageMakerの「RaceLearnTable_latest.csv」からS3に「RaceLearnTable.csv」としてダウンロードしました\n",
      "\n",
      "100 200 300 400 500 600 700 800 900 1000 1100 1200 1300 1400 1500 1600 1700 1800 1900 2000 2100 2200 2300 2400 2500 2600 2700 2800 2900 3000 3100 3200 3300 3400 3500 3600 \n",
      "\n",
      "■ 推論所要時間[sec]： 67.6635947227478, 件数：　3641\n",
      "\n",
      "■ レースの推論結果をCSV（RacePredictedTable.csv）に出力しました\n",
      "\n",
      "■ SageMakerの「RacePredictedTable.csv」からS3に「RacePredictedTable.csv」としてアップロードしました\n",
      "\n"
     ]
    }
   ],
   "source": [
    "# 一連の実行\n",
    "main()"
   ]
  },
  {
   "cell_type": "code",
   "execution_count": null,
   "metadata": {},
   "outputs": [],
   "source": []
  }
 ],
 "metadata": {
  "instance_type": "ml.t3.medium",
  "kernelspec": {
   "display_name": "Python 3 (Data Science)",
   "language": "python",
   "name": "python3__SAGEMAKER_INTERNAL__arn:aws:sagemaker:ap-northeast-1:102112518831:image/datascience-1.0"
  },
  "language_info": {
   "codemirror_mode": {
    "name": "ipython",
    "version": 3
   },
   "file_extension": ".py",
   "mimetype": "text/x-python",
   "name": "python",
   "nbconvert_exporter": "python",
   "pygments_lexer": "ipython3",
   "version": "3.7.10"
  }
 },
 "nbformat": 4,
 "nbformat_minor": 4
}
